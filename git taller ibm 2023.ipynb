{
    "cells": [
        {
            "metadata": {},
            "cell_type": "code",
            "source": "pip install statistics",
            "execution_count": 10,
            "outputs": [
                {
                    "output_type": "stream",
                    "text": "Collecting statistics\n  Downloading statistics-1.0.3.5.tar.gz (8.3 kB)\n  Preparing metadata (setup.py) ... \u001b[?25ldone\n\u001b[?25hCollecting docutils>=0.3 (from statistics)\n  Downloading docutils-0.20.1-py3-none-any.whl.metadata (2.8 kB)\nDownloading docutils-0.20.1-py3-none-any.whl (572 kB)\n\u001b[2K   \u001b[90m\u2501\u2501\u2501\u2501\u2501\u2501\u2501\u2501\u2501\u2501\u2501\u2501\u2501\u2501\u2501\u2501\u2501\u2501\u2501\u2501\u2501\u2501\u2501\u2501\u2501\u2501\u2501\u2501\u2501\u2501\u2501\u2501\u2501\u2501\u2501\u2501\u2501\u2501\u2501\u2501\u001b[0m \u001b[32m572.7/572.7 kB\u001b[0m \u001b[31m39.6 MB/s\u001b[0m eta \u001b[36m0:00:00\u001b[0m\n\u001b[?25hBuilding wheels for collected packages: statistics\n  Building wheel for statistics (setup.py) ... \u001b[?25ldone\n\u001b[?25h  Created wheel for statistics: filename=statistics-1.0.3.5-py3-none-any.whl size=7438 sha256=3818a5e7abacefc7d8bd44fa57d76c92db8c1319544cf52ffcae7c10d31fdf8b\n  Stored in directory: /tmp/wsuser/.cache/pip/wheels/59/bd/aa/41ad56fbb723d36e457b5be74feb992cdac2855a6999ba34a1\nSuccessfully built statistics\nInstalling collected packages: docutils, statistics\nSuccessfully installed docutils-0.20.1 statistics-1.0.3.5\nNote: you may need to restart the kernel to use updated packages.\n",
                    "name": "stdout"
                }
            ]
        },
        {
            "metadata": {},
            "cell_type": "code",
            "source": "import statistics as stats\n\n\ndatos = [10, 50, 15, 20, 25, 30, 12, 56]\n\n\ndesviacion_estandar = stats.stdev(datos)\nmedia = stats.median(datos)\n\nprint(\"Desviaci\u00f3n Est\u00e1ndar:\", desviacion_estandar)\nprint(\"Media:\", media)",
            "execution_count": 13,
            "outputs": [
                {
                    "output_type": "stream",
                    "text": "Desviaci\u00f3n Est\u00e1ndar: 17.277152543170995\nMedia: 22.5\n",
                    "name": "stdout"
                }
            ]
        },
        {
            "metadata": {},
            "cell_type": "code",
            "source": "",
            "execution_count": null,
            "outputs": []
        }
    ],
    "metadata": {
        "kernelspec": {
            "name": "python3",
            "display_name": "Python 3.10",
            "language": "python"
        },
        "language_info": {
            "name": "python",
            "version": "3.10.13",
            "mimetype": "text/x-python",
            "codemirror_mode": {
                "name": "ipython",
                "version": 3
            },
            "pygments_lexer": "ipython3",
            "nbconvert_exporter": "python",
            "file_extension": ".py"
        }
    },
    "nbformat": 4,
    "nbformat_minor": 1
}